{
  "nbformat": 4,
  "nbformat_minor": 0,
  "metadata": {
    "colab": {
      "name": "GUI Application.ipynb",
      "provenance": [],
      "collapsed_sections": [],
      "authorship_tag": "ABX9TyOXGIcN1Ly6m+mO4Wg76fCr",
      "include_colab_link": true
    },
    "kernelspec": {
      "name": "python3",
      "display_name": "Python 3"
    },
    "language_info": {
      "name": "python"
    }
  },
  "cells": [
    {
      "cell_type": "markdown",
      "metadata": {
        "id": "view-in-github",
        "colab_type": "text"
      },
      "source": [
        "<a href=\"https://colab.research.google.com/github/martlegaspi/OOP-58002/blob/main/GUI_Application.ipynb\" target=\"_parent\"><img src=\"https://colab.research.google.com/assets/colab-badge.svg\" alt=\"Open In Colab\"/></a>"
      ]
    },
    {
      "cell_type": "markdown",
      "source": [
        "Create a Python Program that displays the grades of a student in prelim, midterm, adn final term"
      ],
      "metadata": {
        "id": "ANhDjyepaBZW"
      }
    },
    {
      "cell_type": "code",
      "execution_count": 25,
      "metadata": {
        "id": "rOVd2UzYYQjU",
        "colab": {
          "base_uri": "https://localhost:8080/"
        },
        "outputId": "a6418c43-b335-4ba3-bb9f-62e7c93f28ab"
      },
      "outputs": [
        {
          "output_type": "stream",
          "name": "stdout",
          "text": [
            "The semestral grade of the sudent is: 88.5\n",
            "Female\n",
            "My birthday is:2022-04-21\n"
          ]
        }
      ],
      "source": [
        "#@title Student's Grade in OOP\n",
        "\n",
        "Student_Name = 'Maria Rizette H. Sayo'#@param {type:\"string\"}\n",
        "prelim_grade = 90 #@param {type:\"number\"}\n",
        "midterm_grade = 85 #@param {type:\"number\"}\n",
        "final_grade = 90 #@param {type:\"number\"}\n",
        "semestral = prelim_grade*0.30+midterm_grade*0.30+final_grade*0.40\n",
        "\n",
        "print(\"The semestral grade of the sudent is: \" + str(round((semestral),1)))\n",
        "\n",
        "Gender = \"Female\" #@param [\"Male\", \"Female\"]\n",
        "Birthdate = \"2022-04-21\" #@param{type:\"date\"}\n",
        "\n",
        "print(Gender)\n",
        "print(\"My birthday is\" + \":\" +Birthdate)"
      ]
    }
  ]
}