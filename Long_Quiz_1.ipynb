{
  "nbformat": 4,
  "nbformat_minor": 0,
  "metadata": {
    "colab": {
      "name": "Long Quiz 1.ipynb",
      "provenance": [],
      "authorship_tag": "ABX9TyOJmYnTQ+ppXBfR5cjfhWpP",
      "include_colab_link": true
    },
    "kernelspec": {
      "name": "python3",
      "display_name": "Python 3"
    },
    "language_info": {
      "name": "python"
    }
  },
  "cells": [
    {
      "cell_type": "markdown",
      "metadata": {
        "id": "view-in-github",
        "colab_type": "text"
      },
      "source": [
        "<a href=\"https://colab.research.google.com/github/martlegaspi/OOP-58002/blob/main/Long_Quiz_1.ipynb\" target=\"_parent\"><img src=\"https://colab.research.google.com/assets/colab-badge.svg\" alt=\"Open In Colab\"/></a>"
      ]
    },
    {
      "cell_type": "code",
      "execution_count": 32,
      "metadata": {
        "colab": {
          "base_uri": "https://localhost:8080/"
        },
        "id": "dOBaXwm4pTEV",
        "outputId": "25c77aaf-61b0-422f-9931-dcd661d65a7f"
      },
      "outputs": [
        {
          "output_type": "stream",
          "name": "stdout",
          "text": [
            "Enter a Celsius: 36\n",
            "The Fahrenheit is:  96.8\n"
          ]
        }
      ],
      "source": [
        "class Temperature:\n",
        " def __init__(self,Celsius):\n",
        "  self.Celsius=Celsius\n",
        "\n",
        " def Display(self):\n",
        "  print(\"The Fahrenheit is: \",self.Fahrenheit())\n",
        " \n",
        " def Fahrenheit(self):\n",
        "  return 9/5*self.Celsius+32\n",
        " \n",
        "tmp1=Temperature(int(input(\"Enter a Celsius: \")))\n",
        "tmp1.Display()\n",
        "  "
      ]
    }
  ]
}