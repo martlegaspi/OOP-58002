{
  "nbformat": 4,
  "nbformat_minor": 0,
  "metadata": {
    "colab": {
      "name": "Prelim Exam.ipynb",
      "provenance": [],
      "authorship_tag": "ABX9TyMMhddgiDa77LQ1uDi5mkqR",
      "include_colab_link": true
    },
    "kernelspec": {
      "name": "python3",
      "display_name": "Python 3"
    },
    "language_info": {
      "name": "python"
    }
  },
  "cells": [
    {
      "cell_type": "markdown",
      "metadata": {
        "id": "view-in-github",
        "colab_type": "text"
      },
      "source": [
        "<a href=\"https://colab.research.google.com/github/martlegaspi/OOP-58002/blob/main/Prelim_Exam.ipynb\" target=\"_parent\"><img src=\"https://colab.research.google.com/assets/colab-badge.svg\" alt=\"Open In Colab\"/></a>"
      ]
    },
    {
      "cell_type": "markdown",
      "source": [
        "Problem 2"
      ],
      "metadata": {
        "id": "tPSElpVlEQWD"
      }
    },
    {
      "cell_type": "code",
      "source": [
        "class Student:\n",
        " def __init__(self, Name, Student_No, Age, School, Course):\n",
        "  self.Name=Name\n",
        "  self.Student_No=Student_No\n",
        "  self.Age=Age\n",
        "  self.School=School\n",
        "  self.Course=Course\n",
        "\n",
        " def Self(self):\n",
        "  print(\"My name is \"+self.Name)\n",
        "  print(\"My student number is: \",self.Student_No)\n",
        "  print(\"My school is \"+self.School)\n",
        "  print(\"My Course is \"+self.Course)\n",
        "\n",
        "me=Student(\"Legaspi, Mart Joven C\", 201012641, 29, \"Adamson University\", \"BS Computer Engineering\")\n",
        "me.Self()"
      ],
      "metadata": {
        "colab": {
          "base_uri": "https://localhost:8080/"
        },
        "id": "3KwGs6rYP87M",
        "outputId": "aa6a2a21-4f28-4dd5-f8b6-03b1ba7f32bd"
      },
      "execution_count": 4,
      "outputs": [
        {
          "output_type": "stream",
          "name": "stdout",
          "text": [
            "My name is Legaspi, Mart Joven C\n",
            "My student number is:  201012641\n",
            "My school is Adamson University\n",
            "My Course is BS Computer Engineering\n"
          ]
        }
      ]
    }
  ]
}