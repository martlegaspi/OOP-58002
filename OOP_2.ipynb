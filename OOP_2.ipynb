{
  "nbformat": 4,
  "nbformat_minor": 0,
  "metadata": {
    "colab": {
      "name": "OOP-2.ipynb",
      "provenance": [],
      "authorship_tag": "ABX9TyO5q6/z12NjpPpDBDWmlD+5",
      "include_colab_link": true
    },
    "kernelspec": {
      "name": "python3",
      "display_name": "Python 3"
    },
    "language_info": {
      "name": "python"
    }
  },
  "cells": [
    {
      "cell_type": "markdown",
      "metadata": {
        "id": "view-in-github",
        "colab_type": "text"
      },
      "source": [
        "<a href=\"https://colab.research.google.com/github/martlegaspi/OOP-58002/blob/main/OOP_2.ipynb\" target=\"_parent\"><img src=\"https://colab.research.google.com/assets/colab-badge.svg\" alt=\"Open In Colab\"/></a>"
      ]
    },
    {
      "cell_type": "markdown",
      "source": [
        "Classes with Multiple Objects"
      ],
      "metadata": {
        "id": "NfYUY0EoUtek"
      }
    },
    {
      "cell_type": "code",
      "execution_count": null,
      "metadata": {
        "colab": {
          "base_uri": "https://localhost:8080/"
        },
        "id": "rVyNRGhLTZkM",
        "outputId": "a7e18b63-ebc8-4b84-e5d5-bd7455f776ae"
      },
      "outputs": [
        {
          "output_type": "stream",
          "name": "stdout",
          "text": [
            "Griffon Vulture flies above clouds\n",
            "Common Crane flies above clouds\n",
            "Emu is the national bird of the Philippines\n"
          ]
        }
      ],
      "source": [
        "class Birds:\n",
        " def __init__(self, bird_name):\n",
        "  self.bird_name = bird_name\n",
        "\n",
        " def flying_birds(self):\n",
        "  print(f\"{self.bird_name} flies above clouds\")\n",
        " \n",
        " def non_flying_birds(self):\n",
        "  print(f\"{self.bird_name} is the national bird of the Philippines\")\n",
        "\n",
        "vulture = Birds(\"Griffon Vulture\")\n",
        "crane = Birds(\"Common Crane\")\n",
        "emu = Birds(\"Emu\")\n",
        "\n",
        "vulture.flying_birds()\n",
        "crane.flying_birds()\n",
        "emu.non_flying_birds()"
      ]
    },
    {
      "cell_type": "markdown",
      "source": [
        "Encapsulation(mangling with double underscores)"
      ],
      "metadata": {
        "id": "H0ktaYDZXJrC"
      }
    },
    {
      "cell_type": "code",
      "source": [
        "class foo:\n",
        " def __init__(self, a, b):\n",
        "  self.__a = a\n",
        "  self.__b = b\n",
        " \n",
        " def add(self):\n",
        "  return self.__a + self.__b\n",
        "\n",
        " def sub(self):\n",
        "  return self.__a - self.__b\n",
        "\n",
        "foo_object = foo(3, 4)\n",
        "\n",
        "\n",
        "#print(foo_object.b)\n",
        "print(foo_object.add()) #adding a and b\n",
        "print(foo_object.sub()) #subtracting a and b\n",
        "\n",
        "foo_object.__b = 5\n",
        "foo_object.__a = 7\n",
        "\n",
        "print(foo_object.add())\n",
        "print(foo_object.sub())\n",
        "\n"
      ],
      "metadata": {
        "colab": {
          "base_uri": "https://localhost:8080/"
        },
        "id": "A9op0rijW73p",
        "outputId": "a47622d0-0e07-46ca-ecda-b0f37831e807"
      },
      "execution_count": null,
      "outputs": [
        {
          "output_type": "stream",
          "name": "stdout",
          "text": [
            "7\n",
            "-1\n",
            "7\n",
            "-1\n"
          ]
        }
      ]
    },
    {
      "cell_type": "markdown",
      "source": [
        "Inheritance"
      ],
      "metadata": {
        "id": "XaExMzWydUfI"
      }
    },
    {
      "cell_type": "code",
      "source": [
        "class Person:\n",
        " def __init__(self, firstname, surname):\n",
        "  self.firstname = firstname\n",
        "  self.surname = surname\n",
        "\n",
        " def printname(self):\n",
        "  print(self.firstname, self.surname)\n",
        "\n",
        "person = Person(\"Mam\", \"Sayo\")\n",
        "person.printname()\n",
        "\n",
        "class Student(Person):\n",
        " pass\n",
        "\n",
        "person = Student(\"Asley\", \"Goce\")\n",
        "person.printname()"
      ],
      "metadata": {
        "colab": {
          "base_uri": "https://localhost:8080/"
        },
        "id": "3A00ay0JW72q",
        "outputId": "1954a45c-2e21-4de1-a147-dab57720e609"
      },
      "execution_count": null,
      "outputs": [
        {
          "output_type": "stream",
          "name": "stdout",
          "text": [
            "Mam Sayo\n",
            "Asley Goce\n"
          ]
        }
      ]
    },
    {
      "cell_type": "markdown",
      "source": [
        "Polymorphism"
      ],
      "metadata": {
        "id": "zS4n3rPUgViT"
      }
    },
    {
      "cell_type": "code",
      "source": [
        "class RegularPolygon:\n",
        " def __init__(self, side):\n",
        "  self.side = side\n",
        "class Square(RegularPolygon):\n",
        " def area(self):\n",
        "  return self.side*self.side\n",
        "class EquilateralTriangle(RegularPolygon):\n",
        " def area(self):\n",
        "  return self.side*self.side*0.433\n",
        "\n",
        "x = Square(4)\n",
        "y = EquilateralTriangle(3)\n",
        "\n",
        "print(x.area())\n",
        "print(y.area())"
      ],
      "metadata": {
        "colab": {
          "base_uri": "https://localhost:8080/"
        },
        "id": "Ec2nt7rJgCBB",
        "outputId": "9ea87874-af09-4def-f75a-f8de8d87c12c"
      },
      "execution_count": null,
      "outputs": [
        {
          "output_type": "stream",
          "name": "stdout",
          "text": [
            "16\n",
            "3.897\n"
          ]
        }
      ]
    },
    {
      "cell_type": "markdown",
      "source": [
        "Application 1"
      ],
      "metadata": {
        "id": "JZY5Q07Xjafu"
      }
    },
    {
      "cell_type": "markdown",
      "source": [
        "1. Create a Python program that displays the name of three students (Student 1, Student, and Student 3) and their term grades\n",
        "2. Create a class name Person and attributes - std1, std2, std3, pre, mid, fin\n",
        "3. Compute the average of each term grade using Grade() method\n",
        "4. Information about student's grades must be hidden from others"
      ],
      "metadata": {
        "id": "XNoTlaBPjfXj"
      }
    },
    {
      "cell_type": "code",
      "source": [
        "class Person:\n",
        " def __init__(self, std1, std2, std3, pre, mid, fin):\n",
        "  self.__std1 = std1\n",
        "  self.__std2 = std2\n",
        "  self.__std3 = std3\n",
        "  self.__pre = pre\n",
        "  self.__mid = mid\n",
        "  self.__fin = fin\n",
        " \n",
        " def Grade(self):\n",
        "  return (self.__pre+self.__mid+self.__fin)/3\n",
        "\n",
        "class Student1(Person):\n",
        " def show1(self):\n",
        "  print(f\"{self.__std1} average term grade is {self.Grade()}\")\n",
        "  \n",
        "class Student2(Person):\n",
        " def show2(self):\n",
        "  print(f\"{self.__std2} average term grade is {self.Grade()}\")\n",
        "\n",
        "class Student3(Person):\n",
        " def show3(self):\n",
        "  print(f\"{self.__std3} average term grade is {self.Grade()}\")\n",
        "\n",
        "test1 = Student1(\"test1\", None, None, 76, 83, 81)\n",
        "test1.show1()\n",
        "  \n",
        "test2 = Student2(None, \"test2\", None, 86, 74, 90)\n",
        "test2.show2()\n",
        "\n",
        "test3 = Student3(None, None, \"test3\", 75, 70, 79)\n",
        "test3.show3()\n"
      ],
      "metadata": {
        "id": "0bdOayQ-gzjG",
        "outputId": "e77b4f70-0706-4af8-ec2f-191da28a7c00",
        "colab": {
          "base_uri": "https://localhost:8080/",
          "height": 356
        }
      },
      "execution_count": 158,
      "outputs": [
        {
          "output_type": "error",
          "ename": "AttributeError",
          "evalue": "ignored",
          "traceback": [
            "\u001b[0;31m---------------------------------------------------------------------------\u001b[0m",
            "\u001b[0;31mAttributeError\u001b[0m                            Traceback (most recent call last)",
            "\u001b[0;32m<ipython-input-158-bb543b9a0068>\u001b[0m in \u001b[0;36m<module>\u001b[0;34m()\u001b[0m\n\u001b[1;32m     24\u001b[0m \u001b[0;34m\u001b[0m\u001b[0m\n\u001b[1;32m     25\u001b[0m \u001b[0mtest1\u001b[0m \u001b[0;34m=\u001b[0m \u001b[0mStudent1\u001b[0m\u001b[0;34m(\u001b[0m\u001b[0;34m\"test1\"\u001b[0m\u001b[0;34m,\u001b[0m \u001b[0;32mNone\u001b[0m\u001b[0;34m,\u001b[0m \u001b[0;32mNone\u001b[0m\u001b[0;34m,\u001b[0m \u001b[0;36m76\u001b[0m\u001b[0;34m,\u001b[0m \u001b[0;36m83\u001b[0m\u001b[0;34m,\u001b[0m \u001b[0;36m81\u001b[0m\u001b[0;34m)\u001b[0m\u001b[0;34m\u001b[0m\u001b[0;34m\u001b[0m\u001b[0m\n\u001b[0;32m---> 26\u001b[0;31m \u001b[0mtest1\u001b[0m\u001b[0;34m.\u001b[0m\u001b[0mshow1\u001b[0m\u001b[0;34m(\u001b[0m\u001b[0;34m)\u001b[0m\u001b[0;34m\u001b[0m\u001b[0;34m\u001b[0m\u001b[0m\n\u001b[0m\u001b[1;32m     27\u001b[0m \u001b[0;34m\u001b[0m\u001b[0m\n\u001b[1;32m     28\u001b[0m \u001b[0mtest2\u001b[0m \u001b[0;34m=\u001b[0m \u001b[0mStudent2\u001b[0m\u001b[0;34m(\u001b[0m\u001b[0;32mNone\u001b[0m\u001b[0;34m,\u001b[0m \u001b[0;34m\"test2\"\u001b[0m\u001b[0;34m,\u001b[0m \u001b[0;32mNone\u001b[0m\u001b[0;34m,\u001b[0m \u001b[0;36m86\u001b[0m\u001b[0;34m,\u001b[0m \u001b[0;36m74\u001b[0m\u001b[0;34m,\u001b[0m \u001b[0;36m90\u001b[0m\u001b[0;34m)\u001b[0m\u001b[0;34m\u001b[0m\u001b[0;34m\u001b[0m\u001b[0m\n",
            "\u001b[0;32m<ipython-input-158-bb543b9a0068>\u001b[0m in \u001b[0;36mshow1\u001b[0;34m(self)\u001b[0m\n\u001b[1;32m     13\u001b[0m \u001b[0;32mclass\u001b[0m \u001b[0mStudent1\u001b[0m\u001b[0;34m(\u001b[0m\u001b[0mPerson\u001b[0m\u001b[0;34m)\u001b[0m\u001b[0;34m:\u001b[0m\u001b[0;34m\u001b[0m\u001b[0;34m\u001b[0m\u001b[0m\n\u001b[1;32m     14\u001b[0m  \u001b[0;32mdef\u001b[0m \u001b[0mshow1\u001b[0m\u001b[0;34m(\u001b[0m\u001b[0mself\u001b[0m\u001b[0;34m)\u001b[0m\u001b[0;34m:\u001b[0m\u001b[0;34m\u001b[0m\u001b[0;34m\u001b[0m\u001b[0m\n\u001b[0;32m---> 15\u001b[0;31m   \u001b[0mprint\u001b[0m\u001b[0;34m(\u001b[0m\u001b[0;34mf\"{self.__std1} average term grade is {self.Grade()}\"\u001b[0m\u001b[0;34m)\u001b[0m\u001b[0;34m\u001b[0m\u001b[0;34m\u001b[0m\u001b[0m\n\u001b[0m\u001b[1;32m     16\u001b[0m \u001b[0;34m\u001b[0m\u001b[0m\n\u001b[1;32m     17\u001b[0m \u001b[0;32mclass\u001b[0m \u001b[0mStudent2\u001b[0m\u001b[0;34m(\u001b[0m\u001b[0mPerson\u001b[0m\u001b[0;34m)\u001b[0m\u001b[0;34m:\u001b[0m\u001b[0;34m\u001b[0m\u001b[0;34m\u001b[0m\u001b[0m\n",
            "\u001b[0;31mAttributeError\u001b[0m: 'Student1' object has no attribute '_Student1__std1'"
          ]
        }
      ]
    },
    {
      "cell_type": "code",
      "source": [
        "class Person:\n",
        " def __init__(self, std, pre, mid, fin):\n",
        "  self.__std = std\n",
        "  self.__pre = pre\n",
        "  self.__mid = mid\n",
        "  self.__fin = fin\n",
        " \n",
        " def Grade(self):\n",
        "  return (self.__pre+self.__mid+self.__fin)/3\n",
        " \n",
        " def show(self):\n",
        "  print(f\"{self.__std} average term grade is {self.Grade()}\")\n",
        "\n",
        "class Student1(Person):\n",
        " pass\n",
        "\n",
        "class Student2(Person):\n",
        " pass\n",
        "\n",
        "class Student3(Person):\n",
        " pass\n",
        "\n",
        "test1 = Student1(\"test1\", 76, 83, 81)\n",
        "test1.show()\n",
        "  \n",
        "test2 = Student2(\"test2\", 86, 74, 90)\n",
        "test2.show()\n",
        "\n",
        "test3 = Student3(\"test3\", 75, 70, 79)\n",
        "test3.show()"
      ],
      "metadata": {
        "id": "HfPFTMzLx2Fm",
        "outputId": "d5af265e-0784-4ca9-ea79-4249093e6e64",
        "colab": {
          "base_uri": "https://localhost:8080/"
        }
      },
      "execution_count": 157,
      "outputs": [
        {
          "output_type": "stream",
          "name": "stdout",
          "text": [
            "test1 average term grade is 80.0\n",
            "test2 average term grade is 83.33333333333333\n",
            "test3 average term grade is 74.66666666666667\n"
          ]
        }
      ]
    }
  ]
}