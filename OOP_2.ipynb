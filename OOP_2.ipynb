{
  "nbformat": 4,
  "nbformat_minor": 0,
  "metadata": {
    "colab": {
      "name": "OOP-2.ipynb",
      "provenance": [],
      "authorship_tag": "ABX9TyMMBhIJLRIyvasTFg7nqqXD",
      "include_colab_link": true
    },
    "kernelspec": {
      "name": "python3",
      "display_name": "Python 3"
    },
    "language_info": {
      "name": "python"
    }
  },
  "cells": [
    {
      "cell_type": "markdown",
      "metadata": {
        "id": "view-in-github",
        "colab_type": "text"
      },
      "source": [
        "<a href=\"https://colab.research.google.com/github/martlegaspi/OOP-58002/blob/main/OOP_2.ipynb\" target=\"_parent\"><img src=\"https://colab.research.google.com/assets/colab-badge.svg\" alt=\"Open In Colab\"/></a>"
      ]
    },
    {
      "cell_type": "markdown",
      "source": [
        "Classes with Multiple Objects"
      ],
      "metadata": {
        "id": "NfYUY0EoUtek"
      }
    },
    {
      "cell_type": "code",
      "execution_count": 5,
      "metadata": {
        "colab": {
          "base_uri": "https://localhost:8080/"
        },
        "id": "rVyNRGhLTZkM",
        "outputId": "a7e18b63-ebc8-4b84-e5d5-bd7455f776ae"
      },
      "outputs": [
        {
          "output_type": "stream",
          "name": "stdout",
          "text": [
            "Griffon Vulture flies above clouds\n",
            "Common Crane flies above clouds\n",
            "Emu is the national bird of the Philippines\n"
          ]
        }
      ],
      "source": [
        "class Birds:\n",
        " def __init__(self, bird_name):\n",
        "  self.bird_name = bird_name\n",
        "\n",
        " def flying_birds(self):\n",
        "  print(f\"{self.bird_name} flies above clouds\")\n",
        " \n",
        " def non_flying_birds(self):\n",
        "  print(f\"{self.bird_name} is the national bird of the Philippines\")\n",
        "\n",
        "vulture = Birds(\"Griffon Vulture\")\n",
        "crane = Birds(\"Common Crane\")\n",
        "emu = Birds(\"Emu\")\n",
        "\n",
        "vulture.flying_birds()\n",
        "crane.flying_birds()\n",
        "emu.non_flying_birds()"
      ]
    },
    {
      "cell_type": "markdown",
      "source": [
        "Encapsulation(mangling with double underscores)"
      ],
      "metadata": {
        "id": "H0ktaYDZXJrC"
      }
    },
    {
      "cell_type": "code",
      "source": [
        "class foo:\n",
        " def __init__(self, a, b):\n",
        "  self.__a = a\n",
        "  self.__b = b\n",
        " \n",
        " def add(self):\n",
        "  return self.__a + self.__b\n",
        "\n",
        " def sub(self):\n",
        "  return self.__a - self.__b\n",
        "\n",
        "foo_object = foo(3, 4)\n",
        "\n",
        "\n",
        "#print(foo_object.b)\n",
        "print(foo_object.add()) #adding a and b\n",
        "print(foo_object.sub()) #subtracting a and b\n",
        "\n",
        "foo_object.__b = 5\n",
        "foo_object.__a = 7\n",
        "\n",
        "print(foo_object.add())\n",
        "print(foo_object.sub())\n",
        "\n"
      ],
      "metadata": {
        "colab": {
          "base_uri": "https://localhost:8080/"
        },
        "id": "A9op0rijW73p",
        "outputId": "a47622d0-0e07-46ca-ecda-b0f37831e807"
      },
      "execution_count": 41,
      "outputs": [
        {
          "output_type": "stream",
          "name": "stdout",
          "text": [
            "7\n",
            "-1\n",
            "7\n",
            "-1\n"
          ]
        }
      ]
    },
    {
      "cell_type": "markdown",
      "source": [
        "Inheritance"
      ],
      "metadata": {
        "id": "XaExMzWydUfI"
      }
    },
    {
      "cell_type": "code",
      "source": [
        "class Person:\n",
        " def __init__(self, firstname, surname):\n",
        "  self.firstname = firstname\n",
        "  self.surname = surname\n",
        "\n",
        " def printname(self):\n",
        "  print(self.firstname, self.surname)\n",
        "\n",
        "person = Person(\"Mam\", \"Sayo\")\n",
        "person.printname()\n",
        "\n",
        "class Student(Person):\n",
        " pass\n",
        "\n",
        "person = Student(\"Asley\", \"Goce\")\n",
        "person.printname()"
      ],
      "metadata": {
        "colab": {
          "base_uri": "https://localhost:8080/"
        },
        "id": "3A00ay0JW72q",
        "outputId": "1954a45c-2e21-4de1-a147-dab57720e609"
      },
      "execution_count": 46,
      "outputs": [
        {
          "output_type": "stream",
          "name": "stdout",
          "text": [
            "Mam Sayo\n",
            "Asley Goce\n"
          ]
        }
      ]
    },
    {
      "cell_type": "markdown",
      "source": [
        "Polymorphism"
      ],
      "metadata": {
        "id": "zS4n3rPUgViT"
      }
    },
    {
      "cell_type": "code",
      "source": [
        "class RegularPolygon:\n",
        " def __init__(self, side):\n",
        "  self.side = side\n",
        "class Square(RegularPolygon):\n",
        " def area(self):\n",
        "  return self.side*self.side\n",
        "class EquilateralTriangle(RegularPolygon):\n",
        " def area(self):\n",
        "  return self.side*self.side*0.433\n",
        "\n",
        "x = Square(4)\n",
        "y = EquilateralTriangle(3)\n",
        "\n",
        "print(x.area())\n",
        "print(y.area())"
      ],
      "metadata": {
        "colab": {
          "base_uri": "https://localhost:8080/"
        },
        "id": "Ec2nt7rJgCBB",
        "outputId": "9ea87874-af09-4def-f75a-f8de8d87c12c"
      },
      "execution_count": 47,
      "outputs": [
        {
          "output_type": "stream",
          "name": "stdout",
          "text": [
            "16\n",
            "3.897\n"
          ]
        }
      ]
    },
    {
      "cell_type": "markdown",
      "source": [
        "Application 1"
      ],
      "metadata": {
        "id": "JZY5Q07Xjafu"
      }
    },
    {
      "cell_type": "markdown",
      "source": [
        "1. Create a Python program that displays the name of three students (Student 1, Student, and Student 3) and their term grades\n",
        "2. Create a class name Person and attributes - std1, std2, std3, pre, mid, fin\n",
        "3. Compute the average of each term grade using Grade() method\n",
        "4. Information about student's grades must be hidden from others"
      ],
      "metadata": {
        "id": "XNoTlaBPjfXj"
      }
    }
  ]
}